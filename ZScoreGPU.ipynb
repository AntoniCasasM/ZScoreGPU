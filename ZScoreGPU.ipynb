{
 "cells": [
  {
   "cell_type": "code",
   "execution_count": 1,
   "metadata": {},
   "outputs": [],
   "source": [
    "import pycuda.driver as cuda\n",
    "import pycuda.autoinit\n",
    "from pycuda.compiler import SourceModule\n",
    "import numpy\n",
    "\n",
    "class ZScoreGPU():\n",
    "    \n",
    "    def __init__(self):\n",
    "\n",
    "        mod = SourceModule(\"\"\"\n",
    "            __global__ void average(float *g_idata, float *average, int limit) { \n",
    "\n",
    "                __shared__ float temp[32];  \n",
    "                unsigned int id = blockIdx.x*blockDim.x + threadIdx.x;\n",
    "                unsigned int thid=threadIdx.x;\n",
    "                float aux=0;\n",
    "                if (id<limit) {\n",
    "                    aux = g_idata[id];\n",
    "                }\n",
    "\n",
    "                aux += __shfl_down_sync(0xffffffff, aux, 1); // Reduction\n",
    "                aux += __shfl_down_sync(0xffffffff, aux, 2); // Reduction\n",
    "                aux += __shfl_down_sync(0xffffffff, aux, 4); // Reduction\n",
    "                aux += __shfl_down_sync(0xffffffff, aux, 8); // Reduction\n",
    "                aux += __shfl_down_sync(0xffffffff, aux, 16); // Reduction\n",
    "\n",
    "                if (thid%32==0) {\n",
    "                    temp[thid/32]=aux;\n",
    "                }\n",
    "\n",
    "                unsigned int offset = 1;\n",
    "                for (int d = 16; d > 0; d >>= 1) { // build sum in place up the tree  \n",
    "                    __syncthreads();    \n",
    "                    if (thid < d){ \n",
    "                        unsigned int ai = offset*(2*thid+1)-1;   \n",
    "                        unsigned int bi = offset*(2*thid+2)-1; \n",
    "                        temp[bi] += temp[ai]; \n",
    "                    }\n",
    "                offset *= 2; \n",
    "            }\n",
    "            __syncthreads();\n",
    "            if (thid == 0) atomicAdd(&average[0],(temp[31])/limit);\n",
    "        }\n",
    "        __global__ void standardDeviationSquared(float *g_idata, float *average, float* standardDev,unsigned int degreesOfFreedom,unsigned int limit) { \n",
    "\n",
    "            __shared__ float temp[32];  \n",
    "            unsigned int id = blockIdx.x*blockDim.x+threadIdx.x;\n",
    "            unsigned int thid=threadIdx.x;\n",
    "            float aux=0;\n",
    "            if(id<limit) {\n",
    "                aux=g_idata[id]-average[0];\n",
    "                aux=(aux*aux)/(degreesOfFreedom);\n",
    "            }\n",
    "            aux += __shfl_down_sync(0xffffffff, aux, 1); // Reduction\n",
    "            aux += __shfl_down_sync(0xffffffff, aux, 2); // Reduction\n",
    "            aux += __shfl_down_sync(0xffffffff, aux, 4); // Reduction\n",
    "            aux += __shfl_down_sync(0xffffffff, aux, 8); // Reduction\n",
    "            aux += __shfl_down_sync(0xffffffff, aux, 16); // Reduction\n",
    "\n",
    "            if (thid%32==0) {\n",
    "                temp[thid/32]=aux;\n",
    "            }\n",
    "\n",
    "            unsigned int offset = 1;\n",
    "            for (int d = 16; d > 0; d >>= 1) { // build sum in place up the tree  \n",
    "                __syncthreads();    \n",
    "                if (thid < d){ \n",
    "                    unsigned int ai = offset*(2*thid+1)-1;   \n",
    "                    unsigned int bi = offset*(2*thid+2)-1; \n",
    "                    temp[bi] += temp[ai]; \n",
    "                    }\n",
    "                offset *= 2; \n",
    "            }\n",
    "            __syncthreads();\n",
    "\n",
    "            if (thid == 0) atomicAdd(&standardDev[0],temp[31]);\n",
    "        }    \n",
    "\n",
    "        __global__ void standarize(float *g_idata, float *average, float standardDev,unsigned int limit) { \n",
    "\n",
    "            unsigned int id = blockIdx.x*blockDim.x+threadIdx.x;\n",
    "            if(id<limit) {\n",
    "                g_idata[id]=(g_idata[id]-average[0])/standardDev;\n",
    "            }\n",
    "        }       \n",
    "\n",
    "         \"\"\")\n",
    "\n",
    "        self.averageFunc = mod.get_function(\"average\")\n",
    "        self.standardDeviationSquared = mod.get_function(\"standardDeviationSquared\")\n",
    "        self.standarize = mod.get_function(\"standarize\")\n",
    "        \n",
    "        self.averageFunc.prepare((\"P\",\"P\",\"I\"))\n",
    "        self.standardDeviationSquared.prepare((\"P\",\"P\",\"P\",\"I\",\"I\"))\n",
    "        self.standarize.prepare((\"P\",\"P\",\"f\",\"I\"))\n",
    "\n",
    "            \n",
    "    def fit(self, x, degreesOfFreedom=None):    \n",
    "\n",
    "        n=len(x)\n",
    "        distribution=numpy.float32(x)\n",
    "        standardDev=numpy.array([0],dtype=numpy.float32)\n",
    "        distributionZScore=numpy.zeros_like(distribution)\n",
    "\n",
    "        \n",
    "        \n",
    "        distribution_gpu = cuda.mem_alloc(distribution.nbytes)\n",
    "        standardDev_gpu = cuda.mem_alloc(4)\n",
    "        average_gpu = cuda.mem_alloc(4)\n",
    "\n",
    "        \n",
    "        if degreesOfFreedom is None:\n",
    "            degreesOfFreedom=n-1\n",
    "        if n%1024==0:\n",
    "            blocks=n/1024\n",
    "        else:\n",
    "            blocks=(n//1024)+1\n",
    "        grid=(blocks,1)\n",
    "        block=(1024,1,1)\n",
    "\n",
    "        cuda.memcpy_htod(distribution_gpu, distribution)\n",
    "        cuda.memset_d32(average_gpu,0,1)\n",
    "        cuda.memset_d32(standardDev_gpu,0,1)\n",
    "\n",
    "        self.averageFunc.prepared_call(grid,block,distribution_gpu,average_gpu,n)\n",
    "        self.standardDeviationSquared.prepared_call(grid,block,distribution_gpu,average_gpu,standardDev_gpu,degreesOfFreedom,n)\n",
    "        \n",
    "        cuda.memcpy_dtoh(standardDev,standardDev_gpu)\n",
    "        \n",
    "        self.standarize.prepared_call(grid,block,distribution_gpu,average_gpu,numpy.sqrt(standardDev[0]),n)\n",
    "\n",
    "        cuda.memcpy_dtoh(distributionZScore,distribution_gpu)\n",
    "        \n",
    "        return distributionZScore;\n",
    "    \n",
    "\n"
   ]
  },
  {
   "cell_type": "markdown",
   "metadata": {},
   "source": [
    "Class to obtain zscore distribution from original distribution"
   ]
  },
  {
   "cell_type": "code",
   "execution_count": 4,
   "metadata": {},
   "outputs": [
    {
     "name": "stdout",
     "output_type": "stream",
     "text": [
      "Zscore computation took 0.38396644592285156 seconds\n",
      "[ 0.09851848 -0.50827235 -0.31475714 ...  0.5158348   0.65218824\n",
      "  2.164697  ]\n"
     ]
    }
   ],
   "source": [
    "import time\n",
    "\n",
    "distribution=numpy.random.normal(0.5,0.2,200000000) #Generate sample normal distribution\n",
    "\n",
    "start = time.time()\n",
    "zscoreGPU=ZScoreGPU()\n",
    "zscoreDistribution=zscoreGPU.fit(distribution)\n",
    "\n",
    "end =time.time()\n",
    "print(\"Zscore computation took \"+str(end-start)+\" seconds\")\n",
    "print(zscoreDistribution)"
   ]
  },
  {
   "cell_type": "markdown",
   "metadata": {},
   "source": [
    "Usage example, with time needed to compute"
   ]
  },
  {
   "cell_type": "code",
   "execution_count": 5,
   "metadata": {},
   "outputs": [
    {
     "data": {
      "image/png": "[encoded data removed]",
      "text/plain": [
       "<Figure size 432x288 with 1 Axes>"
      ]
     },
     "metadata": {
      "needs_background": "light"
     },
     "output_type": "display_data"
    }
   ],
   "source": [
    "import matplotlib.pyplot as plt\n",
    "\n",
    "plt.hist(zscoreDistribution,bins=1000,histtype=\"step\")\n",
    "plt.show()"
   ]
  },
  {
   "cell_type": "markdown",
   "metadata": {},
   "source": [
    "Plot showing zscore correctness"
   ]
  }
 ],
 "metadata": {
  "kernelspec": {
   "display_name": "Python 3",
   "language": "python",
   "name": "python3"
  },
  "language_info": {
   "codemirror_mode": {
    "name": "ipython",
    "version": 3
   },
   "file_extension": ".py",
   "mimetype": "text/x-python",
   "name": "python",
   "nbconvert_exporter": "python",
   "pygments_lexer": "ipython3",
   "version": "3.8.2"
  }
 },
 "nbformat": 4,
 "nbformat_minor": 4
}
